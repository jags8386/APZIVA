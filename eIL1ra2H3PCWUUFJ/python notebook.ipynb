{
 "cells": [
  {
   "cell_type": "markdown",
   "metadata": {},
   "source": [
    "## Introduction\n",
    "\n",
    "ACME is one of the fastest growing startups in the logistics and delivery domain. We work with several partners and make on-demand delivery to our customers. During the COVID-19 pandemic, we are facing several different challenges and everyday we are trying to address these challenges.\n",
    "\n",
    "At ACME we thrive for making our customers happy. As a growing startup, with a global expansion strategy we know that we need to make our customers happy and the only way to do that is to measure how happy each customer is. If we can predict what makes our customers happy or unhappy, we can then take necessary actions.\n",
    "\n",
    "Getting feedback from customers is not easy either, but we do our best to get constant feedback from our customers. This is a crucial function to improve our operations across all levels.\n",
    "\n",
    "We recently did a survey to a select customer cohort. You are presented with a subset of this data. We will be using the remaining data as a private test set.\n",
    "\n",
    "Data Description:\n",
    "\n",
    "Y = target attribute (Y) with values indicating 0 (unhappy) and 1 (happy) customers\n",
    "X1 = my order was delivered on time\n",
    "\n",
    "X2 = contents of my order was as I expected\n",
    "\n",
    "X3 = I ordered everything I wanted to order\n",
    "\n",
    "X4 = I paid a good price for my order\n",
    "\n",
    "X5 = I am satisfied with my courier\n",
    "\n",
    "X6 = the app makes ordering easy for me\n",
    "\n",
    "\n",
    "Attributes X1 to X6 indicate the responses for each question and have values from 1 to 5 where the smaller number indicates less and the higher number indicates more towards the answer."
   ]
  },
  {
   "cell_type": "markdown",
   "metadata": {},
   "source": [
    "## Importing Data"
   ]
  },
  {
   "cell_type": "code",
   "execution_count": 138,
   "metadata": {},
   "outputs": [],
   "source": [
    "import numpy as np\n",
    "import pandas as pd\n",
    "import matplotlib.pyplot as plt\n",
    "import seaborn as sns"
   ]
  },
  {
   "cell_type": "code",
   "execution_count": 139,
   "metadata": {},
   "outputs": [],
   "source": [
    "df = pd.read_csv(\"ACME-HappinessSurvey2020.csv\")"
   ]
  },
  {
   "cell_type": "markdown",
   "metadata": {},
   "source": [
    "## Data Analysis"
   ]
  },
  {
   "cell_type": "code",
   "execution_count": 140,
   "metadata": {},
   "outputs": [
    {
     "data": {
      "text/html": [
       "<div>\n",
       "<style scoped>\n",
       "    .dataframe tbody tr th:only-of-type {\n",
       "        vertical-align: middle;\n",
       "    }\n",
       "\n",
       "    .dataframe tbody tr th {\n",
       "        vertical-align: top;\n",
       "    }\n",
       "\n",
       "    .dataframe thead th {\n",
       "        text-align: right;\n",
       "    }\n",
       "</style>\n",
       "<table border=\"1\" class=\"dataframe\">\n",
       "  <thead>\n",
       "    <tr style=\"text-align: right;\">\n",
       "      <th></th>\n",
       "      <th>Y</th>\n",
       "      <th>X1</th>\n",
       "      <th>X2</th>\n",
       "      <th>X3</th>\n",
       "      <th>X4</th>\n",
       "      <th>X5</th>\n",
       "      <th>X6</th>\n",
       "    </tr>\n",
       "  </thead>\n",
       "  <tbody>\n",
       "    <tr>\n",
       "      <th>0</th>\n",
       "      <td>0</td>\n",
       "      <td>3</td>\n",
       "      <td>3</td>\n",
       "      <td>3</td>\n",
       "      <td>4</td>\n",
       "      <td>2</td>\n",
       "      <td>4</td>\n",
       "    </tr>\n",
       "    <tr>\n",
       "      <th>1</th>\n",
       "      <td>0</td>\n",
       "      <td>3</td>\n",
       "      <td>2</td>\n",
       "      <td>3</td>\n",
       "      <td>5</td>\n",
       "      <td>4</td>\n",
       "      <td>3</td>\n",
       "    </tr>\n",
       "    <tr>\n",
       "      <th>2</th>\n",
       "      <td>1</td>\n",
       "      <td>5</td>\n",
       "      <td>3</td>\n",
       "      <td>3</td>\n",
       "      <td>3</td>\n",
       "      <td>3</td>\n",
       "      <td>5</td>\n",
       "    </tr>\n",
       "    <tr>\n",
       "      <th>3</th>\n",
       "      <td>0</td>\n",
       "      <td>5</td>\n",
       "      <td>4</td>\n",
       "      <td>3</td>\n",
       "      <td>3</td>\n",
       "      <td>3</td>\n",
       "      <td>5</td>\n",
       "    </tr>\n",
       "    <tr>\n",
       "      <th>4</th>\n",
       "      <td>0</td>\n",
       "      <td>5</td>\n",
       "      <td>4</td>\n",
       "      <td>3</td>\n",
       "      <td>3</td>\n",
       "      <td>3</td>\n",
       "      <td>5</td>\n",
       "    </tr>\n",
       "  </tbody>\n",
       "</table>\n",
       "</div>"
      ],
      "text/plain": [
       "   Y  X1  X2  X3  X4  X5  X6\n",
       "0  0   3   3   3   4   2   4\n",
       "1  0   3   2   3   5   4   3\n",
       "2  1   5   3   3   3   3   5\n",
       "3  0   5   4   3   3   3   5\n",
       "4  0   5   4   3   3   3   5"
      ]
     },
     "execution_count": 140,
     "metadata": {},
     "output_type": "execute_result"
    }
   ],
   "source": [
    "df.head()"
   ]
  },
  {
   "cell_type": "code",
   "execution_count": 141,
   "metadata": {},
   "outputs": [
    {
     "data": {
      "text/html": [
       "<div>\n",
       "<style scoped>\n",
       "    .dataframe tbody tr th:only-of-type {\n",
       "        vertical-align: middle;\n",
       "    }\n",
       "\n",
       "    .dataframe tbody tr th {\n",
       "        vertical-align: top;\n",
       "    }\n",
       "\n",
       "    .dataframe thead th {\n",
       "        text-align: right;\n",
       "    }\n",
       "</style>\n",
       "<table border=\"1\" class=\"dataframe\">\n",
       "  <thead>\n",
       "    <tr style=\"text-align: right;\">\n",
       "      <th></th>\n",
       "      <th>Y</th>\n",
       "      <th>X1</th>\n",
       "      <th>X2</th>\n",
       "      <th>X3</th>\n",
       "      <th>X4</th>\n",
       "      <th>X5</th>\n",
       "      <th>X6</th>\n",
       "    </tr>\n",
       "  </thead>\n",
       "  <tbody>\n",
       "    <tr>\n",
       "      <th>count</th>\n",
       "      <td>126.000</td>\n",
       "      <td>126.000</td>\n",
       "      <td>126.000</td>\n",
       "      <td>126.000</td>\n",
       "      <td>126.000</td>\n",
       "      <td>126.000</td>\n",
       "      <td>126.000</td>\n",
       "    </tr>\n",
       "    <tr>\n",
       "      <th>mean</th>\n",
       "      <td>0.548</td>\n",
       "      <td>4.333</td>\n",
       "      <td>2.532</td>\n",
       "      <td>3.310</td>\n",
       "      <td>3.746</td>\n",
       "      <td>3.651</td>\n",
       "      <td>4.254</td>\n",
       "    </tr>\n",
       "    <tr>\n",
       "      <th>std</th>\n",
       "      <td>0.500</td>\n",
       "      <td>0.800</td>\n",
       "      <td>1.115</td>\n",
       "      <td>1.023</td>\n",
       "      <td>0.876</td>\n",
       "      <td>1.148</td>\n",
       "      <td>0.809</td>\n",
       "    </tr>\n",
       "    <tr>\n",
       "      <th>min</th>\n",
       "      <td>0.000</td>\n",
       "      <td>1.000</td>\n",
       "      <td>1.000</td>\n",
       "      <td>1.000</td>\n",
       "      <td>1.000</td>\n",
       "      <td>1.000</td>\n",
       "      <td>1.000</td>\n",
       "    </tr>\n",
       "    <tr>\n",
       "      <th>25%</th>\n",
       "      <td>0.000</td>\n",
       "      <td>4.000</td>\n",
       "      <td>2.000</td>\n",
       "      <td>3.000</td>\n",
       "      <td>3.000</td>\n",
       "      <td>3.000</td>\n",
       "      <td>4.000</td>\n",
       "    </tr>\n",
       "    <tr>\n",
       "      <th>50%</th>\n",
       "      <td>1.000</td>\n",
       "      <td>5.000</td>\n",
       "      <td>3.000</td>\n",
       "      <td>3.000</td>\n",
       "      <td>4.000</td>\n",
       "      <td>4.000</td>\n",
       "      <td>4.000</td>\n",
       "    </tr>\n",
       "    <tr>\n",
       "      <th>75%</th>\n",
       "      <td>1.000</td>\n",
       "      <td>5.000</td>\n",
       "      <td>3.000</td>\n",
       "      <td>4.000</td>\n",
       "      <td>4.000</td>\n",
       "      <td>4.000</td>\n",
       "      <td>5.000</td>\n",
       "    </tr>\n",
       "    <tr>\n",
       "      <th>max</th>\n",
       "      <td>1.000</td>\n",
       "      <td>5.000</td>\n",
       "      <td>5.000</td>\n",
       "      <td>5.000</td>\n",
       "      <td>5.000</td>\n",
       "      <td>5.000</td>\n",
       "      <td>5.000</td>\n",
       "    </tr>\n",
       "  </tbody>\n",
       "</table>\n",
       "</div>"
      ],
      "text/plain": [
       "             Y       X1       X2       X3       X4       X5       X6\n",
       "count  126.000  126.000  126.000  126.000  126.000  126.000  126.000\n",
       "mean     0.548    4.333    2.532    3.310    3.746    3.651    4.254\n",
       "std      0.500    0.800    1.115    1.023    0.876    1.148    0.809\n",
       "min      0.000    1.000    1.000    1.000    1.000    1.000    1.000\n",
       "25%      0.000    4.000    2.000    3.000    3.000    3.000    4.000\n",
       "50%      1.000    5.000    3.000    3.000    4.000    4.000    4.000\n",
       "75%      1.000    5.000    3.000    4.000    4.000    4.000    5.000\n",
       "max      1.000    5.000    5.000    5.000    5.000    5.000    5.000"
      ]
     },
     "execution_count": 141,
     "metadata": {},
     "output_type": "execute_result"
    }
   ],
   "source": [
    "df.describe().round(3)"
   ]
  },
  {
   "cell_type": "markdown",
   "metadata": {},
   "source": [
    "As we can see that For attributes (X1 to X6) minimum values is 1 and maximum value is 5. There is no ambiguity in data. Mean for question X1 (my order was delivered on time) is 4.33 which is significantly high and shows that majority customer get delivery on time. \n",
    "\n",
    "Similarly for feature X6( the app makes ordering easy for me), average user rating is 4.25 which shows that most user finds app user friendly. \n",
    "\n",
    "Other attirbutes varies between 1 to 6 with median being mostly 3 or 4.\n"
   ]
  },
  {
   "cell_type": "code",
   "execution_count": 142,
   "metadata": {},
   "outputs": [
    {
     "data": {
      "text/plain": [
       "Y     0\n",
       "X1    0\n",
       "X2    0\n",
       "X3    0\n",
       "X4    0\n",
       "X5    0\n",
       "X6    0\n",
       "dtype: int64"
      ]
     },
     "execution_count": 142,
     "metadata": {},
     "output_type": "execute_result"
    }
   ],
   "source": [
    "df.isna().sum()"
   ]
  },
  {
   "cell_type": "markdown",
   "metadata": {},
   "source": [
    "We did not find any missing value and hence there is no imputation needed. "
   ]
  },
  {
   "cell_type": "code",
   "execution_count": 143,
   "metadata": {},
   "outputs": [
    {
     "data": {
      "text/plain": [
       "<matplotlib.axes._subplots.AxesSubplot at 0x7fc28907f3c8>"
      ]
     },
     "execution_count": 143,
     "metadata": {},
     "output_type": "execute_result"
    },
    {
     "data": {
      "image/png": "[encoded data removed]",
      "text/plain": [
       "<Figure size 720x720 with 2 Axes>"
      ]
     },
     "metadata": {
      "needs_background": "light"
     },
     "output_type": "display_data"
    }
   ],
   "source": [
    "plt.subplots(figsize = (10,10))\n",
    "\n",
    "sns.heatmap(df.corr().abs().round(3), cmap = 'viridis', annot=True)"
   ]
  },
  {
   "cell_type": "markdown",
   "metadata": {},
   "source": [
    "As we can see that most features are not correlateed. Also X2 and X4 are least correlated with outcome. "
   ]
  },
  {
   "cell_type": "code",
   "execution_count": 144,
   "metadata": {},
   "outputs": [
    {
     "data": {
      "text/plain": [
       "<matplotlib.axes._subplots.AxesSubplot at 0x7fc289168dd8>"
      ]
     },
     "execution_count": 144,
     "metadata": {},
     "output_type": "execute_result"
    },
    {
     "data": {
      "image/png": "[encoded data removed]",
      "text/plain": [
       "<Figure size 432x288 with 1 Axes>"
      ]
     },
     "metadata": {},
     "output_type": "display_data"
    }
   ],
   "source": [
    "df['Y'].value_counts(normalize = True).plot(kind='pie', autopct='%1.1f%%', fontsize = 20,)"
   ]
  },
  {
   "cell_type": "markdown",
   "metadata": {},
   "source": [
    "We can see that dataset is slightly unbalanced.However, we can still uses accuracy as evaluation metric. "
   ]
  },
  {
   "cell_type": "markdown",
   "metadata": {},
   "source": [
    "## Data Visulzation"
   ]
  },
  {
   "cell_type": "code",
   "execution_count": 145,
   "metadata": {},
   "outputs": [
    {
     "data": {
      "image/png": "[encoded data removed]",
      "text/plain": [
       "<Figure size 864x432 with 6 Axes>"
      ]
     },
     "metadata": {
      "needs_background": "light"
     },
     "output_type": "display_data"
    }
   ],
   "source": [
    "fig,axs = plt.subplots(2,3, figsize = (12,6))\n",
    "\n",
    "for index in range(6):\n",
    "#     print(column)\n",
    "    sns.distplot(df.iloc[:,index+1], ax = axs[index//3, index%3])\n",
    "    "
   ]
  },
  {
   "cell_type": "code",
   "execution_count": 146,
   "metadata": {},
   "outputs": [
    {
     "data": {
      "text/plain": [
       "<seaborn.axisgrid.PairGrid at 0x7fc288c7c080>"
      ]
     },
     "execution_count": 146,
     "metadata": {},
     "output_type": "execute_result"
    },
    {
     "data": {
      "image/png": "[encoded data removed]",
      "text/plain": [
       "<Figure size 1260x1260 with 56 Axes>"
      ]
     },
     "metadata": {
      "needs_background": "light"
     },
     "output_type": "display_data"
    }
   ],
   "source": [
    "# plt.subplots(figsize = (15,6))\n",
    "sns.pairplot(df)"
   ]
  },
  {
   "cell_type": "code",
   "execution_count": null,
   "metadata": {},
   "outputs": [],
   "source": []
  },
  {
   "cell_type": "markdown",
   "metadata": {},
   "source": [
    "## machine Learning"
   ]
  },
  {
   "cell_type": "markdown",
   "metadata": {},
   "source": [
    "### Train test split"
   ]
  },
  {
   "cell_type": "code",
   "execution_count": 147,
   "metadata": {},
   "outputs": [],
   "source": [
    "from sklearn.model_selection import train_test_split, ParameterGrid, GridSearchCV"
   ]
  },
  {
   "cell_type": "code",
   "execution_count": 148,
   "metadata": {},
   "outputs": [],
   "source": [
    "X = df.drop('Y', axis=1)\n",
    "y = df['Y']\n",
    "\n",
    "X_train, X_test, y_train, y_test = train_test_split(X, y, random_state = 42, stratify = y, test_size = 0.2)"
   ]
  },
  {
   "cell_type": "markdown",
   "metadata": {},
   "source": [
    "## Models\n",
    "\n",
    "Lets create a function which runs several models using grid search and report it to experiment logbook."
   ]
  },
  {
   "cell_type": "code",
   "execution_count": 149,
   "metadata": {},
   "outputs": [],
   "source": [
    "from sklearn.linear_model import LogisticRegression\n",
    "from sklearn.ensemble import RandomForestClassifier\n",
    "from sklearn.svm import SVC\n",
    "from sklearn.pipeline import Pipeline\n",
    "from sklearn.preprocessing import MinMaxScaler, StandardScaler\n",
    "\n",
    "from lightgbm import LGBMClassifier\n",
    "# from catboost import CatBoostClassifier\n",
    "from xgboost import XGBClassifier\n",
    "\n",
    "from sklearn.metrics import accuracy_score, f1_score\n",
    "from time import time\n",
    "from datetime import datetime\n",
    "import json"
   ]
  },
  {
   "cell_type": "code",
   "execution_count": 150,
   "metadata": {},
   "outputs": [],
   "source": [
    "def ConductGridSearch(X_train, y_train, X_test, y_test, i=0, prefix='', n_jobs=-1,verbose=1):\n",
    "    \n",
    "    explog = pd.DataFrame(columns = ['model', 'accuracy_train', 'accuracy_test',\n",
    "                                     'f1-score_train', 'f1-score_test',\n",
    "                                     'Training Time', 'Experiments', 'description'])\n",
    "\n",
    "\n",
    "\n",
    "    models = [['logreg' , LogisticRegression()],\n",
    "             ['random_forest' , RandomForestClassifier()],\n",
    "             ['svm' , SVC()],    \n",
    "             ['XGBoost', XGBClassifier(random_state = 42)],\n",
    "             ['LightGBM', LGBMClassifier(random_state=42)],\n",
    "             ]\n",
    "\n",
    "\n",
    "    params_grid = {'logreg' : {\n",
    "                'C' : np.logspace(-3,3,7),  \n",
    "                'fit_intercept' : [True, False],\n",
    "                },\n",
    "                   \n",
    "                   'random_forest' : {\n",
    "                'n_estimators' : [10,30,50],  \n",
    "                'max_depth' : [3,6,8],\n",
    "                },\n",
    "                   \n",
    "                   'svm' : {\n",
    "                'C' : np.logspace(-3,3,7),  \n",
    "                'kernel' : ['linear', 'poly', 'rbf'],\n",
    "                'gamma' : ['scale', 'auto']\n",
    "                },   \n",
    "                   \n",
    "                           \n",
    "                'XGBoost':  {\n",
    "            'n_estimators' : [10, 30,50], \n",
    "            'eta': [0.01, 0.05, 0.1],\n",
    "            'min_child_weight' : [20, 35],\n",
    "            'colsample_bytree': [0.8, 0.95],\n",
    "            'max_depth' : [3,6,8],\n",
    "\n",
    "                },\n",
    "                   \n",
    "                'LightGBM':  {\n",
    "            'n_estimators' : [10, 50],  \n",
    "            'boosting_type': ['gbdt'],\n",
    "            'num_leaves': [10, 20],\n",
    "            'learning_rate': [0.01, 0.05, 0.1],\n",
    "            'colsample_bytree': [0.8, 0.95 ],\n",
    "            'reg_alpha'  : [0.01, 0.02, 0.05],\n",
    "            'reg_lambda' : [0.01, 0.02, 0.05],\n",
    "            'min_split_gain' :[0.01, 0.02, 0.05],\n",
    "                },\n",
    "            }\n",
    "\n",
    " \n",
    "    \n",
    "    for (name, regressor) in models:\n",
    "        i += 1\n",
    "        # Print classifier and parameters\n",
    "        print('****** START',prefix, name,'*****')\n",
    "        parameters = params_grid[name]\n",
    "        print(\"Parameters:\")\n",
    "        for p in sorted(parameters.keys()):\n",
    "            print(\"\\t\"+str(p)+\": \"+ str(parameters[p]))\n",
    "            \n",
    "        \n",
    "        total_exp = len(ParameterGrid(parameters))*5\n",
    "        \n",
    "        # generate the pipeline\n",
    "        full_pipeline_with_predictor = Pipeline([\n",
    "#         (\"scaler\", StandardScaler()),\n",
    "        (\"predictor\", regressor)\n",
    "        ])\n",
    "        \n",
    "        # Execute the grid search\n",
    "        params = {}\n",
    "        for p in parameters.keys():\n",
    "            pipe_key = 'predictor__'+str(p)\n",
    "            params[pipe_key] = parameters[p] \n",
    "            \n",
    "            \n",
    "        grid_search = GridSearchCV(full_pipeline_with_predictor, params, scoring='accuracy', cv=5, \n",
    "                                   verbose=verbose)\n",
    "        grid_search.fit(X_train, y_train,)\n",
    "                \n",
    "        # # Best estimator score\n",
    "        # best_train = pct(grid_search.best_score_)\n",
    "\n",
    "        # Best estimator fitting time\n",
    "        \n",
    "        start = time()\n",
    "        grid_search.best_estimator_.fit(X_train, y_train)\n",
    "        Train_time = round(time() - start, 4)\n",
    "\n",
    "        \n",
    "        y_pred = grid_search.best_estimator_.predict(X_train)\n",
    "        \n",
    "        accuracy_train = round(accuracy_score(y_train, y_pred), 3)\n",
    "        f1_train = round(f1_score(y_train, y_pred), 3)\n",
    "        \n",
    "        y_pred_test = grid_search.best_estimator_.predict(X_test)\n",
    "        \n",
    "        accuracy_test = round(accuracy_score(y_test, y_pred_test), 3)\n",
    "        f1_test = round(f1_score(y_test, y_pred_test), 3)\n",
    "\n",
    "        \n",
    "        print(\"Accuracy Train : \", accuracy_train , \" \"*10, \"Accuracy Test : \", accuracy_test)\n",
    "        print(\"F1-score Train : \", f1_train , \" \"*10, \"f1-score Test : \", f1_test)\n",
    "\n",
    "        print('*'*40)\n",
    "        print('\\n')\n",
    "\n",
    "\n",
    "        # Collect the best parameters found by the grid search\n",
    "        print(\"Best Parameters:\")\n",
    "        best_parameters = grid_search.best_estimator_.get_params()\n",
    "        param_dump = []\n",
    "        for param_name in sorted(params.keys()):\n",
    "            param_dump.append((param_name, best_parameters[param_name]))\n",
    "            print(\"\\t\"+str(param_name)+\": \" + str(best_parameters[param_name]))\n",
    "        print(\"****** FINISH\",prefix,name,\" *****\")\n",
    "        print(\"\")\n",
    "        print(\"-\"*40)\n",
    "        print(\"*\"*40)\n",
    "        print(\"-\"*40)\n",
    "        # Record the results\n",
    "        explog.loc[len(explog)] = [prefix+name, accuracy_train, accuracy_test,\n",
    "                                   f1_train, f1_test,\n",
    "                                   Train_time, total_exp, json.dumps(param_dump)]\n",
    "        \n",
    "    sttime = datetime.now().strftime('%Y%m%d_%H:%M:%S - ') \n",
    "    display(explog)\n",
    "    explog.to_csv(sttime + 'experiment_log.csv', index = False)    \n",
    "    \n",
    "    \n"
   ]
  },
  {
   "cell_type": "code",
   "execution_count": 151,
   "metadata": {
    "scrolled": false
   },
   "outputs": [
    {
     "name": "stdout",
     "output_type": "stream",
     "text": [
      "****** START Best Model: logreg *****\n",
      "Parameters:\n",
      "\tC: [1.e-03 1.e-02 1.e-01 1.e+00 1.e+01 1.e+02 1.e+03]\n",
      "\tfit_intercept: [True, False]\n",
      "Fitting 5 folds for each of 14 candidates, totalling 70 fits\n"
     ]
    },
    {
     "name": "stderr",
     "output_type": "stream",
     "text": [
      "[Parallel(n_jobs=1)]: Using backend SequentialBackend with 1 concurrent workers.\n",
      "[Parallel(n_jobs=1)]: Done  70 out of  70 | elapsed:    0.7s finished\n",
      "[Parallel(n_jobs=1)]: Using backend SequentialBackend with 1 concurrent workers.\n"
     ]
    },
    {
     "name": "stdout",
     "output_type": "stream",
     "text": [
      "Accuracy Train :  0.62            Accuracy Test :  0.577\n",
      "F1-score Train :  0.708            f1-score Test :  0.686\n",
      "****************************************\n",
      "\n",
      "\n",
      "Best Parameters:\n",
      "\tpredictor__C: 0.1\n",
      "\tpredictor__fit_intercept: False\n",
      "****** FINISH Best Model: logreg  *****\n",
      "\n",
      "----------------------------------------\n",
      "****************************************\n",
      "----------------------------------------\n",
      "****** START Best Model: random_forest *****\n",
      "Parameters:\n",
      "\tmax_depth: [3, 6, 8]\n",
      "\tn_estimators: [10, 30, 50]\n",
      "Fitting 5 folds for each of 9 candidates, totalling 45 fits\n"
     ]
    },
    {
     "name": "stderr",
     "output_type": "stream",
     "text": [
      "[Parallel(n_jobs=1)]: Done  45 out of  45 | elapsed:    1.8s finished\n",
      "[Parallel(n_jobs=1)]: Using backend SequentialBackend with 1 concurrent workers.\n"
     ]
    },
    {
     "name": "stdout",
     "output_type": "stream",
     "text": [
      "Accuracy Train :  0.87            Accuracy Test :  0.808\n",
      "F1-score Train :  0.889            f1-score Test :  0.828\n",
      "****************************************\n",
      "\n",
      "\n",
      "Best Parameters:\n",
      "\tpredictor__max_depth: 8\n",
      "\tpredictor__n_estimators: 10\n",
      "****** FINISH Best Model: random_forest  *****\n",
      "\n",
      "----------------------------------------\n",
      "****************************************\n",
      "----------------------------------------\n",
      "****** START Best Model: svm *****\n",
      "Parameters:\n",
      "\tC: [1.e-03 1.e-02 1.e-01 1.e+00 1.e+01 1.e+02 1.e+03]\n",
      "\tgamma: ['scale', 'auto']\n",
      "\tkernel: ['linear', 'poly', 'rbf']\n",
      "Fitting 5 folds for each of 42 candidates, totalling 210 fits\n"
     ]
    },
    {
     "name": "stderr",
     "output_type": "stream",
     "text": [
      "[Parallel(n_jobs=1)]: Done 210 out of 210 | elapsed:  1.1min finished\n",
      "[Parallel(n_jobs=1)]: Using backend SequentialBackend with 1 concurrent workers.\n"
     ]
    },
    {
     "name": "stdout",
     "output_type": "stream",
     "text": [
      "Accuracy Train :  0.64            Accuracy Test :  0.692\n",
      "F1-score Train :  0.673            f1-score Test :  0.733\n",
      "****************************************\n",
      "\n",
      "\n",
      "Best Parameters:\n",
      "\tpredictor__C: 0.01\n",
      "\tpredictor__gamma: auto\n",
      "\tpredictor__kernel: poly\n",
      "****** FINISH Best Model: svm  *****\n",
      "\n",
      "----------------------------------------\n",
      "****************************************\n",
      "----------------------------------------\n",
      "****** START Best Model: XGBoost *****\n",
      "Parameters:\n",
      "\tcolsample_bytree: [0.8, 0.95]\n",
      "\teta: [0.01, 0.05, 0.1]\n",
      "\tmax_depth: [3, 6, 8]\n",
      "\tmin_child_weight: [20, 35]\n",
      "\tn_estimators: [10, 30, 50]\n",
      "Fitting 5 folds for each of 108 candidates, totalling 540 fits\n"
     ]
    },
    {
     "name": "stderr",
     "output_type": "stream",
     "text": [
      "[Parallel(n_jobs=1)]: Done 540 out of 540 | elapsed:    3.2s finished\n",
      "[Parallel(n_jobs=1)]: Using backend SequentialBackend with 1 concurrent workers.\n"
     ]
    },
    {
     "name": "stdout",
     "output_type": "stream",
     "text": [
      "Accuracy Train :  0.55            Accuracy Test :  0.538\n",
      "F1-score Train :  0.71            f1-score Test :  0.7\n",
      "****************************************\n",
      "\n",
      "\n",
      "Best Parameters:\n",
      "\tpredictor__colsample_bytree: 0.8\n",
      "\tpredictor__eta: 0.01\n",
      "\tpredictor__max_depth: 3\n",
      "\tpredictor__min_child_weight: 20\n",
      "\tpredictor__n_estimators: 10\n",
      "****** FINISH Best Model: XGBoost  *****\n",
      "\n",
      "----------------------------------------\n",
      "****************************************\n",
      "----------------------------------------\n",
      "****** START Best Model: LightGBM *****\n",
      "Parameters:\n",
      "\tboosting_type: ['gbdt']\n",
      "\tcolsample_bytree: [0.8, 0.95]\n",
      "\tlearning_rate: [0.01, 0.05, 0.1]\n",
      "\tmin_split_gain: [0.01, 0.02, 0.05]\n",
      "\tn_estimators: [10, 50]\n",
      "\tnum_leaves: [10, 20]\n",
      "\treg_alpha: [0.01, 0.02, 0.05]\n",
      "\treg_lambda: [0.01, 0.02, 0.05]\n",
      "Fitting 5 folds for each of 648 candidates, totalling 3240 fits\n",
      "Accuracy Train :  0.67            Accuracy Test :  0.692\n",
      "F1-score Train :  0.692            f1-score Test :  0.714\n",
      "****************************************\n",
      "\n",
      "\n",
      "Best Parameters:\n",
      "\tpredictor__boosting_type: gbdt\n",
      "\tpredictor__colsample_bytree: 0.95\n",
      "\tpredictor__learning_rate: 0.1\n",
      "\tpredictor__min_split_gain: 0.01\n",
      "\tpredictor__n_estimators: 50\n",
      "\tpredictor__num_leaves: 10\n",
      "\tpredictor__reg_alpha: 0.01\n",
      "\tpredictor__reg_lambda: 0.02\n",
      "****** FINISH Best Model: LightGBM  *****\n",
      "\n",
      "----------------------------------------\n",
      "****************************************\n",
      "----------------------------------------\n"
     ]
    },
    {
     "name": "stderr",
     "output_type": "stream",
     "text": [
      "[Parallel(n_jobs=1)]: Done 3240 out of 3240 | elapsed:   25.9s finished\n"
     ]
    },
    {
     "data": {
      "text/html": [
       "<div>\n",
       "<style scoped>\n",
       "    .dataframe tbody tr th:only-of-type {\n",
       "        vertical-align: middle;\n",
       "    }\n",
       "\n",
       "    .dataframe tbody tr th {\n",
       "        vertical-align: top;\n",
       "    }\n",
       "\n",
       "    .dataframe thead th {\n",
       "        text-align: right;\n",
       "    }\n",
       "</style>\n",
       "<table border=\"1\" class=\"dataframe\">\n",
       "  <thead>\n",
       "    <tr style=\"text-align: right;\">\n",
       "      <th></th>\n",
       "      <th>model</th>\n",
       "      <th>accuracy_train</th>\n",
       "      <th>accuracy_test</th>\n",
       "      <th>f1-score_train</th>\n",
       "      <th>f1-score_test</th>\n",
       "      <th>Training Time</th>\n",
       "      <th>Experiments</th>\n",
       "      <th>description</th>\n",
       "    </tr>\n",
       "  </thead>\n",
       "  <tbody>\n",
       "    <tr>\n",
       "      <th>0</th>\n",
       "      <td>Best Model:logreg</td>\n",
       "      <td>0.62</td>\n",
       "      <td>0.577</td>\n",
       "      <td>0.708</td>\n",
       "      <td>0.686</td>\n",
       "      <td>0.0060</td>\n",
       "      <td>70</td>\n",
       "      <td>[[\"predictor__C\", 0.1], [\"predictor__fit_inter...</td>\n",
       "    </tr>\n",
       "    <tr>\n",
       "      <th>1</th>\n",
       "      <td>Best Model:random_forest</td>\n",
       "      <td>0.87</td>\n",
       "      <td>0.808</td>\n",
       "      <td>0.889</td>\n",
       "      <td>0.828</td>\n",
       "      <td>0.0124</td>\n",
       "      <td>45</td>\n",
       "      <td>[[\"predictor__max_depth\", 8], [\"predictor__n_e...</td>\n",
       "    </tr>\n",
       "    <tr>\n",
       "      <th>2</th>\n",
       "      <td>Best Model:svm</td>\n",
       "      <td>0.64</td>\n",
       "      <td>0.692</td>\n",
       "      <td>0.673</td>\n",
       "      <td>0.733</td>\n",
       "      <td>0.0030</td>\n",
       "      <td>210</td>\n",
       "      <td>[[\"predictor__C\", 0.01], [\"predictor__gamma\", ...</td>\n",
       "    </tr>\n",
       "    <tr>\n",
       "      <th>3</th>\n",
       "      <td>Best Model:XGBoost</td>\n",
       "      <td>0.55</td>\n",
       "      <td>0.538</td>\n",
       "      <td>0.710</td>\n",
       "      <td>0.700</td>\n",
       "      <td>0.0034</td>\n",
       "      <td>540</td>\n",
       "      <td>[[\"predictor__colsample_bytree\", 0.8], [\"predi...</td>\n",
       "    </tr>\n",
       "    <tr>\n",
       "      <th>4</th>\n",
       "      <td>Best Model:LightGBM</td>\n",
       "      <td>0.67</td>\n",
       "      <td>0.692</td>\n",
       "      <td>0.692</td>\n",
       "      <td>0.714</td>\n",
       "      <td>0.0084</td>\n",
       "      <td>3240</td>\n",
       "      <td>[[\"predictor__boosting_type\", \"gbdt\"], [\"predi...</td>\n",
       "    </tr>\n",
       "  </tbody>\n",
       "</table>\n",
       "</div>"
      ],
      "text/plain": [
       "                      model  accuracy_train  accuracy_test  f1-score_train  \\\n",
       "0         Best Model:logreg            0.62          0.577           0.708   \n",
       "1  Best Model:random_forest            0.87          0.808           0.889   \n",
       "2            Best Model:svm            0.64          0.692           0.673   \n",
       "3        Best Model:XGBoost            0.55          0.538           0.710   \n",
       "4       Best Model:LightGBM            0.67          0.692           0.692   \n",
       "\n",
       "   f1-score_test  Training Time Experiments  \\\n",
       "0          0.686         0.0060          70   \n",
       "1          0.828         0.0124          45   \n",
       "2          0.733         0.0030         210   \n",
       "3          0.700         0.0034         540   \n",
       "4          0.714         0.0084        3240   \n",
       "\n",
       "                                         description  \n",
       "0  [[\"predictor__C\", 0.1], [\"predictor__fit_inter...  \n",
       "1  [[\"predictor__max_depth\", 8], [\"predictor__n_e...  \n",
       "2  [[\"predictor__C\", 0.01], [\"predictor__gamma\", ...  \n",
       "3  [[\"predictor__colsample_bytree\", 0.8], [\"predi...  \n",
       "4  [[\"predictor__boosting_type\", \"gbdt\"], [\"predi...  "
      ]
     },
     "metadata": {},
     "output_type": "display_data"
    },
    {
     "name": "stdout",
     "output_type": "stream",
     "text": [
      "CPU times: user 2min 55s, sys: 10.1 s, total: 3min 5s\n",
      "Wall time: 1min 38s\n"
     ]
    }
   ],
   "source": [
    "%%time\n",
    "# This might take a while\n",
    "if __name__ == \"__main__\":\n",
    "    \n",
    "\n",
    "    # multiprocessing requires the fork to happen in a __main__ protected\n",
    "    # block\n",
    "\n",
    "    # find the best parameters for both the feature extraction and the\n",
    "    # classifier\n",
    "    # n_jobs=-1 means that the computation will be dispatched on all the CPUs of the computer.\n",
    "    #\n",
    "    # By default, the GridSearchCV uses a 3-fold cross-validation. However, if it \n",
    "    #            detects that a classifier is passed, rather than a regressor, it uses a stratified 3-fold.\n",
    "    ConductGridSearch(X_train, y_train, X_test, y_test, 0, \"Best Model:\",  verbose=1, )\n",
    "    \n",
    "#     display(explog)"
   ]
  },
  {
   "cell_type": "markdown",
   "metadata": {},
   "source": [
    "As we see from our experiemnt logbook, we get best result by using Random Forest model. Test accuracy for random forest is 0.808.\n",
    "We will using Random forest to further develop and use as final model."
   ]
  },
  {
   "cell_type": "markdown",
   "metadata": {},
   "source": [
    "## Random Forest - Further Development"
   ]
  },
  {
   "cell_type": "code",
   "execution_count": 152,
   "metadata": {},
   "outputs": [
    {
     "data": {
      "text/plain": [
       "'[[\"predictor__max_depth\", 6], [\"predictor__n_estimators\", 10]]'"
      ]
     },
     "execution_count": 152,
     "metadata": {},
     "output_type": "execute_result"
    }
   ],
   "source": [
    "explog  = pd.read_csv(\"20210215_19:28:44 - experiment_log.csv\")\n",
    "explog.iloc[1][-1]"
   ]
  },
  {
   "cell_type": "code",
   "execution_count": 168,
   "metadata": {
    "scrolled": false
   },
   "outputs": [
    {
     "name": "stdout",
     "output_type": "stream",
     "text": [
      "Accuracy Train :  0.79            Accuracy Test :  0.731\n",
      "F1-score Train :  0.832            f1-score Test :  0.788\n",
      "****************************************\n",
      "\n",
      "\n"
     ]
    }
   ],
   "source": [
    "\n",
    "X = df.drop('Y', axis=1)\n",
    "y = df['Y']\n",
    "\n",
    "X_train, X_test, y_train, y_test = train_test_split(X, y, random_state = 42, stratify = y, test_size = 0.2)\n",
    "\n",
    "parameters = {\n",
    "                'n_estimators' : np.arange(5,50,5),  \n",
    "                'max_depth' : np.arange(1,15),\n",
    "#                 'max_features' : np.arange(1,7)\n",
    "                }\n",
    "rf = RandomForestClassifier()\n",
    "grid = GridSearchCV(rf, parameters , scoring='accuracy', cv = 5, n_jobs=-1)\n",
    "\n",
    "grid.fit(X_train, y_train)\n",
    "\n",
    "\n",
    "\n",
    "grid.best_estimator_.fit(X_train, y_train)\n",
    "\n",
    "y_pred = grid.best_estimator_.predict(X_train)\n",
    "\n",
    "accuracy_train = round(accuracy_score(y_train, y_pred), 3)\n",
    "f1_train = round(f1_score(y_train, y_pred), 3)\n",
    "\n",
    "y_pred_test = grid.best_estimator_.predict(X_test)\n",
    "\n",
    "accuracy_test = round(accuracy_score(y_test, y_pred_test), 3)\n",
    "f1_test = round(f1_score(y_test, y_pred_test), 3)\n",
    "\n",
    "\n",
    "print(\"Accuracy Train : \", accuracy_train , \" \"*10, \"Accuracy Test : \", accuracy_test)\n",
    "print(\"F1-score Train : \", f1_train , \" \"*10, \"f1-score Test : \", f1_test)\n",
    "\n",
    "print('*'*40)\n",
    "print('\\n')"
   ]
  },
  {
   "cell_type": "code",
   "execution_count": 169,
   "metadata": {},
   "outputs": [
    {
     "data": {
      "text/plain": [
       "RandomForestClassifier(max_depth=4, n_estimators=40)"
      ]
     },
     "execution_count": 169,
     "metadata": {},
     "output_type": "execute_result"
    }
   ],
   "source": [
    "grid.best_estimator_"
   ]
  },
  {
   "cell_type": "code",
   "execution_count": 180,
   "metadata": {},
   "outputs": [],
   "source": [
    "data_dict = {\n",
    "    'X1': \"On time Delivery\",\n",
    "    \"X2\" : \"Order as expected\",\n",
    "    \"X3\" : \"Item Avaialbility\",\n",
    "    \"X4\" : \"Reasonable Price\",\n",
    "    \"X5\" : \"Delivery Satisfaction / Safe Delivery\",\n",
    "    \"X6\" : \"User Friendly App\"\n",
    "}"
   ]
  },
  {
   "cell_type": "code",
   "execution_count": 181,
   "metadata": {},
   "outputs": [
    {
     "data": {
      "text/plain": [
       "['On time Delivery',\n",
       " 'Order as expected',\n",
       " 'Item Avaialbility',\n",
       " 'Reasonable Price',\n",
       " 'Delivery Satisfaction / Safe Delivery',\n",
       " 'User Friendly App']"
      ]
     },
     "execution_count": 181,
     "metadata": {},
     "output_type": "execute_result"
    }
   ],
   "source": [
    "list(data_dict.values())"
   ]
  },
  {
   "cell_type": "code",
   "execution_count": 182,
   "metadata": {},
   "outputs": [
    {
     "data": {
      "text/plain": [
       "<BarContainer object of 6 artists>"
      ]
     },
     "execution_count": 182,
     "metadata": {},
     "output_type": "execute_result"
    },
    {
     "data": {
      "image/png": "[encoded data removed]",
      "text/plain": [
       "<Figure size 432x288 with 1 Axes>"
      ]
     },
     "metadata": {
      "needs_background": "light"
     },
     "output_type": "display_data"
    }
   ],
   "source": [
    "plt.barh(list(data_dict.values()), rf.feature_importances_)\n",
    "    "
   ]
  },
  {
   "cell_type": "code",
   "execution_count": 183,
   "metadata": {},
   "outputs": [],
   "source": [
    "from sklearn.base import clone\n",
    "from itertools import combinations\n",
    "import numpy as np\n",
    "from sklearn.metrics import accuracy_score\n",
    "from sklearn.model_selection import train_test_split\n",
    "\n",
    "class SBS():\n",
    "    def __init__(self, estimator, k_features, scoring=accuracy_score,\n",
    "                 test_size=0.25, random_state=1):\n",
    "        self.scoring = scoring\n",
    "        self.estimator = clone(estimator)\n",
    "        self.k_features = k_features\n",
    "        self.test_size = test_size\n",
    "        self.random_state = random_state\n",
    "\n",
    "    def fit(self, X, y):\n",
    "        #split training data into train and validation subsets\n",
    "        X_train, X_test, y_train, y_test = \\\n",
    "            train_test_split(X, y, test_size=self.test_size,\n",
    "                             random_state=self.random_state)\n",
    "\n",
    "        dim = X_train.shape[1]\n",
    "        \n",
    "        self.indices_ = tuple(range(dim))\n",
    "#         print(self.indices_)\n",
    "        self.subsets_ = [self.indices_]\n",
    "        score = self._calc_score(X_train, y_train, \n",
    "                                 X_test, y_test, self.indices_)\n",
    "        self.scores_ = [score]\n",
    "\n",
    "        while dim > self.k_features:\n",
    "            scores = []\n",
    "            subsets = []\n",
    "            # look at all combinations of dim-1 features \n",
    "            for p in combinations(self.indices_, r=dim - 1):\n",
    "                score = self._calc_score(X_train, y_train, \n",
    "                                         X_test, y_test, p)\n",
    "                scores.append(score)\n",
    "                subsets.append(p)\n",
    "\n",
    "            best = np.argmax(scores)\n",
    "            self.indices_ = subsets[best]\n",
    "            self.subsets_.append(self.indices_)\n",
    "            dim -= 1\n",
    "\n",
    "            self.scores_.append(scores[best])\n",
    "        self.k_score_ = self.scores_[-1]\n",
    "        ## TODO  please complete!\n",
    "        # using crossfold validation select the single best model from among all selected subsets\n",
    "        # using cross-validated performance utility\n",
    "        \n",
    "        return self\n",
    "\n",
    "    def transform(self, X):\n",
    "        return X[:, self.indices_]\n",
    "\n",
    "    def _calc_score(self, X_train, y_train, X_test, y_test, indices):\n",
    "#         print(indices)\n",
    "        self.estimator.fit(X_train[:, indices], y_train)\n",
    "        y_pred = self.estimator.predict(X_test[:, indices])\n",
    "        score = self.scoring(y_test, y_pred)\n",
    "        return score"
   ]
  },
  {
   "cell_type": "code",
   "execution_count": 186,
   "metadata": {},
   "outputs": [
    {
     "data": {
      "image/png": "[encoded data removed]",
      "text/plain": [
       "<Figure size 432x288 with 1 Axes>"
      ]
     },
     "metadata": {
      "needs_background": "light"
     },
     "output_type": "display_data"
    }
   ],
   "source": [
    "from sklearn.metrics import explained_variance_score\n",
    "rf = RandomForestClassifier(max_depth=6, n_estimators = 10)\n",
    "sbs = SBS(rf, k_features=1, scoring=accuracy_score,test_size=0.2)\n",
    "\n",
    "\n",
    "X = df.drop('Y', axis=1).values\n",
    "y = df['Y'].values\n",
    "\n",
    "sbs.fit(X, y)\n",
    "\n",
    "# plotting performance of feature subsets\n",
    "k_feat = [len(k) for k in sbs.subsets_]\n",
    "\n",
    "#plot places the points on the graph using the number of features (no need to sort!)\n",
    "plt.plot(k_feat, sbs.scores_, marker='o')  \n",
    "plt.ylim([0.5, 1.02])\n",
    "plt.title(\"Sequential Backward Selection\")\n",
    "plt.ylabel('Accuracy_score on validation set')\n",
    "plt.xlabel(r'number of features')\n",
    "plt.grid()\n",
    "plt.tight_layout()\n",
    "plt.show()"
   ]
  },
  {
   "cell_type": "code",
   "execution_count": 187,
   "metadata": {},
   "outputs": [
    {
     "data": {
      "text/plain": [
       "[(0, 6, 0.538, (0, 1, 2, 3, 4, 5)),\n",
       " (1, 5, 0.654, (0, 2, 3, 4, 5)),\n",
       " (2, 4, 0.769, (0, 2, 3, 4)),\n",
       " (3, 3, 0.692, (0, 3, 4)),\n",
       " (4, 2, 0.577, (0, 3)),\n",
       " (5, 1, 0.615, (0,))]"
      ]
     },
     "execution_count": 187,
     "metadata": {},
     "output_type": "execute_result"
    }
   ],
   "source": [
    "list(zip( np.arange(0, len(sbs.scores_)), k_feat, np.round(sbs.scores_, 3), sbs.subsets_)  )"
   ]
  },
  {
   "cell_type": "markdown",
   "metadata": {},
   "source": [
    "By looking t above plot, we can say that maximum accuracy achieved using 4 features which are \n",
    "\n",
    "\n",
    "\n",
    "X1 = my order was delivered on time\n",
    "\n",
    "X3 = I ordered everything I wanted to order\n",
    "\n",
    "X4 = I paid a good price for my order\n",
    "\n",
    "X5 = I am satisfied with my courier\n",
    "\n"
   ]
  },
  {
   "cell_type": "markdown",
   "metadata": {},
   "source": [
    "## Export Best model"
   ]
  },
  {
   "cell_type": "code",
   "execution_count": 188,
   "metadata": {},
   "outputs": [
    {
     "data": {
      "text/plain": [
       "RandomForestClassifier(max_depth=4, n_estimators=40)"
      ]
     },
     "execution_count": 188,
     "metadata": {},
     "output_type": "execute_result"
    }
   ],
   "source": [
    "best_model = RandomForestClassifier(max_depth=4, n_estimators=40)\n",
    "best_model.fit(X_train, y_train)"
   ]
  },
  {
   "cell_type": "code",
   "execution_count": 190,
   "metadata": {},
   "outputs": [],
   "source": [
    "import pickle\n",
    "filename = 'best_model.sav'\n",
    "pickle.dump(best_model, open(filename, 'wb'))"
   ]
  },
  {
   "cell_type": "code",
   "execution_count": null,
   "metadata": {},
   "outputs": [],
   "source": []
  }
 ],
 "metadata": {
  "kernelspec": {
   "display_name": "Python 3",
   "language": "python",
   "name": "python3"
  },
  "language_info": {
   "codemirror_mode": {
    "name": "ipython",
    "version": 3
   },
   "file_extension": ".py",
   "mimetype": "text/x-python",
   "name": "python",
   "nbconvert_exporter": "python",
   "pygments_lexer": "ipython3",
   "version": "3.6.10"
  },
  "toc": {
   "base_numbering": 1,
   "nav_menu": {},
   "number_sections": true,
   "sideBar": true,
   "skip_h1_title": false,
   "title_cell": "Table of Contents",
   "title_sidebar": "Contents",
   "toc_cell": false,
   "toc_position": {},
   "toc_section_display": true,
   "toc_window_display": false
  }
 },
 "nbformat": 4,
 "nbformat_minor": 4
}
